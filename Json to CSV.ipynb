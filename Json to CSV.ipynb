{
 "cells": [
  {
   "cell_type": "code",
   "execution_count": 6,
   "metadata": {},
   "outputs": [
    {
     "name": "stdout",
     "output_type": "stream",
     "text": [
      "This is json data input C:\\Users\\charan\\Downloads\\month.json\n"
     ]
    }
   ],
   "source": [
    "import sys\n",
    "import pandas as pd\n",
    "from pandas import DataFrame\n",
    "import json\n",
    "\n",
    "\n",
    "data=r'C:\\Users\\charan\\Downloads\\month.json'\n",
    "print (\"This is json data input\", data)\n"
   ]
  },
  {
   "cell_type": "code",
   "execution_count": 7,
   "metadata": {},
   "outputs": [],
   "source": [
    "\n",
    "# Reads and converts json to dict.\n",
    "def js_r(data):\n",
    "   with open(data, encoding='utf-8') as f_in:\n",
    "       return(json.load(f_in))\n"
   ]
  },
  {
   "cell_type": "code",
   "execution_count": 8,
   "metadata": {},
   "outputs": [
    {
     "name": "stdout",
     "output_type": "stream",
     "text": [
      "This is my dictionary {'items': [{'user': {'reputation': 30066, 'user_id': 9209546, 'user_type': 'registered', 'accept_rate': 100, 'profile_image': 'https://i.stack.imgur.com/qk9vC.jpg?s=128&g=1', 'display_name': 'jpp', 'link': 'https://stackoverflow.com/users/9209546/jpp'}, 'post_count': 555, 'score': 701}, {'user': {'reputation': 55387, 'user_id': 7964527, 'user_type': 'registered', 'accept_rate': 100, 'profile_image': 'https://i.stack.imgur.com/DLdBM.jpg?s=128&g=1', 'display_name': 'Wen', 'link': 'https://stackoverflow.com/users/7964527/wen'}, 'post_count': 262, 'score': 511}, {'user': {'reputation': 241249, 'user_id': 2901002, 'user_type': 'registered', 'accept_rate': 97, 'profile_image': 'https://i.stack.imgur.com/hMDvl.jpg?s=128&g=1', 'display_name': 'jezrael', 'link': 'https://stackoverflow.com/users/2901002/jezrael'}, 'post_count': 302, 'score': 499}, {'user': {'reputation': 84352, 'user_id': 4909087, 'user_type': 'registered', 'accept_rate': 97, 'profile_image': 'https://i.stack.imgur.com/Jy08O.png?s=128&g=1', 'display_name': 'cᴏʟᴅsᴘᴇᴇᴅ', 'link': 'https://stackoverflow.com/users/4909087/c%e1%b4%8f%ca%9f%e1%b4%85s%e1%b4%98%e1%b4%87%e1%b4%87%e1%b4%85'}, 'post_count': 143, 'score': 346}, {'user': {'reputation': 213128, 'user_id': 908494, 'user_type': 'registered', 'accept_rate': 25, 'profile_image': 'https://www.gravatar.com/avatar/7e41acaa8f6a0e0f5a7c645e93add55a?s=128&d=identicon&r=PG', 'display_name': 'abarnert', 'link': 'https://stackoverflow.com/users/908494/abarnert'}, 'post_count': 176, 'score': 314}, {'user': {'reputation': 9791, 'user_id': 1044117, 'user_type': 'registered', 'accept_rate': 62, 'profile_image': 'https://www.gravatar.com/avatar/70c26ef03afcef7dd3f3418097b38d80?s=128&d=identicon&r=PG', 'display_name': 'fferri', 'link': 'https://stackoverflow.com/users/1044117/fferri'}, 'post_count': 155, 'score': 217}, {'user': {'reputation': 17768, 'user_id': 532312, 'user_type': 'registered', 'accept_rate': 76, 'profile_image': 'https://i.stack.imgur.com/kEKs8.jpg?s=128&g=1', 'display_name': 'Rakesh', 'link': 'https://stackoverflow.com/users/532312/rakesh'}, 'post_count': 221, 'score': 206}, {'user': {'reputation': 83029, 'user_id': 6451573, 'user_type': 'registered', 'accept_rate': 90, 'profile_image': 'https://i.stack.imgur.com/zE16s.jpg?s=128&g=1', 'display_name': 'Jean-Fran&#231;ois Fabre', 'link': 'https://stackoverflow.com/users/6451573/jean-fran%c3%a7ois-fabre'}, 'post_count': 88, 'score': 195}, {'user': {'reputation': 2751, 'user_id': 1526703, 'user_type': 'registered', 'accept_rate': 88, 'profile_image': 'https://www.gravatar.com/avatar/3dab6f319dc8cd56cfe746a69724eb28?s=128&d=identicon&r=PG&f=1', 'display_name': 'Anupam', 'link': 'https://stackoverflow.com/users/1526703/anupam'}, 'post_count': 12, 'score': 188}, {'user': {'reputation': 8608, 'user_id': 3483203, 'user_type': 'registered', 'accept_rate': 78, 'profile_image': 'https://i.stack.imgur.com/4lXMM.jpg?s=128&g=1', 'display_name': 'chrisz', 'link': 'https://stackoverflow.com/users/3483203/chrisz'}, 'post_count': 95, 'score': 187}, {'user': {'reputation': 28607, 'user_id': 7326738, 'user_type': 'registered', 'accept_rate': 86, 'profile_image': 'https://www.gravatar.com/avatar/304e795e4bb2e0ea9df20073319f4033?s=128&d=identicon&r=PG&f=1', 'display_name': 'Ajax1234', 'link': 'https://stackoverflow.com/users/7326738/ajax1234'}, 'post_count': 123, 'score': 155}, {'user': {'reputation': 122231, 'user_id': 2336654, 'user_type': 'registered', 'accept_rate': 96, 'profile_image': 'https://i.stack.imgur.com/8V2Hz.png?s=128&g=1', 'display_name': 'piRSquared', 'link': 'https://stackoverflow.com/users/2336654/pirsquared'}, 'post_count': 78, 'score': 154}, {'user': {'reputation': 46671, 'user_id': 3510736, 'user_type': 'registered', 'accept_rate': 78, 'profile_image': 'https://i.stack.imgur.com/kVtHP.jpg?s=128&g=1', 'display_name': 'Ami Tavory', 'link': 'https://stackoverflow.com/users/3510736/ami-tavory'}, 'post_count': 93, 'score': 152}, {'user': {'reputation': 129935, 'user_id': 2357112, 'user_type': 'registered', 'accept_rate': 26, 'profile_image': 'https://www.gravatar.com/avatar/3f80897d57525afe9eac4fb8c8318052?s=128&d=identicon&r=PG', 'display_name': 'user2357112', 'link': 'https://stackoverflow.com/users/2357112/user2357112'}, 'post_count': 56, 'score': 149}, {'user': {'reputation': 35458, 'user_id': 6361531, 'user_type': 'registered', 'accept_rate': 80, 'profile_image': 'https://www.gravatar.com/avatar/b4314406c13df778073190bce6b93cdc?s=128&d=identicon&r=PG&f=1', 'display_name': 'Scott Boston', 'link': 'https://stackoverflow.com/users/6361531/scott-boston'}, 'post_count': 98, 'score': 148}, {'user': {'reputation': 17624, 'user_id': 1222951, 'user_type': 'registered', 'accept_rate': 88, 'profile_image': 'https://i.stack.imgur.com/s64JD.png?s=128&g=1', 'display_name': 'Aran-Fey', 'link': 'https://stackoverflow.com/users/1222951/aran-fey'}, 'post_count': 66, 'score': 141}, {'user': {'reputation': 641574, 'user_id': 100297, 'user_type': 'moderator', 'profile_image': 'https://www.gravatar.com/avatar/24780fb6df85a943c7aea0402c843737?s=128&d=identicon&r=PG', 'display_name': 'Martijn Pieters', 'link': 'https://stackoverflow.com/users/100297/martijn-pieters'}, 'post_count': 54, 'score': 137}, {'user': {'reputation': 18703, 'user_id': 2482744, 'user_type': 'registered', 'accept_rate': 52, 'profile_image': 'https://www.gravatar.com/avatar/da280aaf6b5a9e6fbdf13089d4e5fa03?s=128&d=identicon&r=PG', 'display_name': 'Alex Hall', 'link': 'https://stackoverflow.com/users/2482744/alex-hall'}, 'post_count': 82, 'score': 113}, {'user': {'reputation': 21236, 'user_id': 7207392, 'user_type': 'registered', 'accept_rate': 73, 'profile_image': 'https://www.gravatar.com/avatar/dadc9567dde5f02b09a29695eca1ce40?s=128&d=identicon&r=PG&f=1', 'display_name': 'Paul Panzer', 'link': 'https://stackoverflow.com/users/7207392/paul-panzer'}, 'post_count': 83, 'score': 112}, {'user': {'reputation': 5902, 'user_id': 6671176, 'user_type': 'registered', 'accept_rate': 100, 'profile_image': 'https://i.stack.imgur.com/wFXlR.png?s=128&g=1', 'display_name': 'sacul', 'link': 'https://stackoverflow.com/users/6671176/sacul'}, 'post_count': 80, 'score': 110}], 'has_more': False, 'quota_max': 300, 'quota_remaining': 294}\n"
     ]
    }
   ],
   "source": [
    "\n",
    "if __name__ == \"__main__\":\n",
    "    my_dic_data = js_r(data)\n",
    "    print(\"This is my dictionary\", my_dic_data)\n"
   ]
  },
  {
   "cell_type": "code",
   "execution_count": 9,
   "metadata": {},
   "outputs": [
    {
     "name": "stdout",
     "output_type": "stream",
     "text": [
      "The original dict keys dict_keys(['items', 'has_more', 'quota_max', 'quota_remaining'])\n"
     ]
    }
   ],
   "source": [
    "keys= my_dic_data.keys()\n",
    "print (\"The original dict keys\",keys)\n"
   ]
  },
  {
   "cell_type": "code",
   "execution_count": 11,
   "metadata": {},
   "outputs": [
    {
     "name": "stdout",
     "output_type": "stream",
     "text": [
      "These are the keys to dict_you_want dict_keys(['my_items'])\n",
      "This is the dictionary of SO_users {'my_items': [{'user': {'reputation': 30066, 'user_id': 9209546, 'user_type': 'registered', 'accept_rate': 100, 'profile_image': 'https://i.stack.imgur.com/qk9vC.jpg?s=128&g=1', 'display_name': 'jpp', 'link': 'https://stackoverflow.com/users/9209546/jpp'}, 'post_count': 555, 'score': 701}, {'user': {'reputation': 55387, 'user_id': 7964527, 'user_type': 'registered', 'accept_rate': 100, 'profile_image': 'https://i.stack.imgur.com/DLdBM.jpg?s=128&g=1', 'display_name': 'Wen', 'link': 'https://stackoverflow.com/users/7964527/wen'}, 'post_count': 262, 'score': 511}, {'user': {'reputation': 241249, 'user_id': 2901002, 'user_type': 'registered', 'accept_rate': 97, 'profile_image': 'https://i.stack.imgur.com/hMDvl.jpg?s=128&g=1', 'display_name': 'jezrael', 'link': 'https://stackoverflow.com/users/2901002/jezrael'}, 'post_count': 302, 'score': 499}, {'user': {'reputation': 84352, 'user_id': 4909087, 'user_type': 'registered', 'accept_rate': 97, 'profile_image': 'https://i.stack.imgur.com/Jy08O.png?s=128&g=1', 'display_name': 'cᴏʟᴅsᴘᴇᴇᴅ', 'link': 'https://stackoverflow.com/users/4909087/c%e1%b4%8f%ca%9f%e1%b4%85s%e1%b4%98%e1%b4%87%e1%b4%87%e1%b4%85'}, 'post_count': 143, 'score': 346}, {'user': {'reputation': 213128, 'user_id': 908494, 'user_type': 'registered', 'accept_rate': 25, 'profile_image': 'https://www.gravatar.com/avatar/7e41acaa8f6a0e0f5a7c645e93add55a?s=128&d=identicon&r=PG', 'display_name': 'abarnert', 'link': 'https://stackoverflow.com/users/908494/abarnert'}, 'post_count': 176, 'score': 314}, {'user': {'reputation': 9791, 'user_id': 1044117, 'user_type': 'registered', 'accept_rate': 62, 'profile_image': 'https://www.gravatar.com/avatar/70c26ef03afcef7dd3f3418097b38d80?s=128&d=identicon&r=PG', 'display_name': 'fferri', 'link': 'https://stackoverflow.com/users/1044117/fferri'}, 'post_count': 155, 'score': 217}, {'user': {'reputation': 17768, 'user_id': 532312, 'user_type': 'registered', 'accept_rate': 76, 'profile_image': 'https://i.stack.imgur.com/kEKs8.jpg?s=128&g=1', 'display_name': 'Rakesh', 'link': 'https://stackoverflow.com/users/532312/rakesh'}, 'post_count': 221, 'score': 206}, {'user': {'reputation': 83029, 'user_id': 6451573, 'user_type': 'registered', 'accept_rate': 90, 'profile_image': 'https://i.stack.imgur.com/zE16s.jpg?s=128&g=1', 'display_name': 'Jean-Fran&#231;ois Fabre', 'link': 'https://stackoverflow.com/users/6451573/jean-fran%c3%a7ois-fabre'}, 'post_count': 88, 'score': 195}, {'user': {'reputation': 2751, 'user_id': 1526703, 'user_type': 'registered', 'accept_rate': 88, 'profile_image': 'https://www.gravatar.com/avatar/3dab6f319dc8cd56cfe746a69724eb28?s=128&d=identicon&r=PG&f=1', 'display_name': 'Anupam', 'link': 'https://stackoverflow.com/users/1526703/anupam'}, 'post_count': 12, 'score': 188}, {'user': {'reputation': 8608, 'user_id': 3483203, 'user_type': 'registered', 'accept_rate': 78, 'profile_image': 'https://i.stack.imgur.com/4lXMM.jpg?s=128&g=1', 'display_name': 'chrisz', 'link': 'https://stackoverflow.com/users/3483203/chrisz'}, 'post_count': 95, 'score': 187}, {'user': {'reputation': 28607, 'user_id': 7326738, 'user_type': 'registered', 'accept_rate': 86, 'profile_image': 'https://www.gravatar.com/avatar/304e795e4bb2e0ea9df20073319f4033?s=128&d=identicon&r=PG&f=1', 'display_name': 'Ajax1234', 'link': 'https://stackoverflow.com/users/7326738/ajax1234'}, 'post_count': 123, 'score': 155}, {'user': {'reputation': 122231, 'user_id': 2336654, 'user_type': 'registered', 'accept_rate': 96, 'profile_image': 'https://i.stack.imgur.com/8V2Hz.png?s=128&g=1', 'display_name': 'piRSquared', 'link': 'https://stackoverflow.com/users/2336654/pirsquared'}, 'post_count': 78, 'score': 154}, {'user': {'reputation': 46671, 'user_id': 3510736, 'user_type': 'registered', 'accept_rate': 78, 'profile_image': 'https://i.stack.imgur.com/kVtHP.jpg?s=128&g=1', 'display_name': 'Ami Tavory', 'link': 'https://stackoverflow.com/users/3510736/ami-tavory'}, 'post_count': 93, 'score': 152}, {'user': {'reputation': 129935, 'user_id': 2357112, 'user_type': 'registered', 'accept_rate': 26, 'profile_image': 'https://www.gravatar.com/avatar/3f80897d57525afe9eac4fb8c8318052?s=128&d=identicon&r=PG', 'display_name': 'user2357112', 'link': 'https://stackoverflow.com/users/2357112/user2357112'}, 'post_count': 56, 'score': 149}, {'user': {'reputation': 35458, 'user_id': 6361531, 'user_type': 'registered', 'accept_rate': 80, 'profile_image': 'https://www.gravatar.com/avatar/b4314406c13df778073190bce6b93cdc?s=128&d=identicon&r=PG&f=1', 'display_name': 'Scott Boston', 'link': 'https://stackoverflow.com/users/6361531/scott-boston'}, 'post_count': 98, 'score': 148}, {'user': {'reputation': 17624, 'user_id': 1222951, 'user_type': 'registered', 'accept_rate': 88, 'profile_image': 'https://i.stack.imgur.com/s64JD.png?s=128&g=1', 'display_name': 'Aran-Fey', 'link': 'https://stackoverflow.com/users/1222951/aran-fey'}, 'post_count': 66, 'score': 141}, {'user': {'reputation': 641574, 'user_id': 100297, 'user_type': 'moderator', 'profile_image': 'https://www.gravatar.com/avatar/24780fb6df85a943c7aea0402c843737?s=128&d=identicon&r=PG', 'display_name': 'Martijn Pieters', 'link': 'https://stackoverflow.com/users/100297/martijn-pieters'}, 'post_count': 54, 'score': 137}, {'user': {'reputation': 18703, 'user_id': 2482744, 'user_type': 'registered', 'accept_rate': 52, 'profile_image': 'https://www.gravatar.com/avatar/da280aaf6b5a9e6fbdf13089d4e5fa03?s=128&d=identicon&r=PG', 'display_name': 'Alex Hall', 'link': 'https://stackoverflow.com/users/2482744/alex-hall'}, 'post_count': 82, 'score': 113}, {'user': {'reputation': 21236, 'user_id': 7207392, 'user_type': 'registered', 'accept_rate': 73, 'profile_image': 'https://www.gravatar.com/avatar/dadc9567dde5f02b09a29695eca1ce40?s=128&d=identicon&r=PG&f=1', 'display_name': 'Paul Panzer', 'link': 'https://stackoverflow.com/users/7207392/paul-panzer'}, 'post_count': 83, 'score': 112}, {'user': {'reputation': 5902, 'user_id': 6671176, 'user_type': 'registered', 'accept_rate': 100, 'profile_image': 'https://i.stack.imgur.com/wFXlR.png?s=128&g=1', 'display_name': 'sacul', 'link': 'https://stackoverflow.com/users/6671176/sacul'}, 'post_count': 80, 'score': 110}]}\n"
     ]
    }
   ],
   "source": [
    "# You assign a new dictionary key- SO_users, and make dictionary comprehension = { your_key: old_dict[your_key] for your_key in your_keys }\n",
    "dict_you_want={'my_items':my_dic_data['items']for key in keys}\n",
    "\n",
    "print (\"These are the keys to dict_you_want\",dict_you_want.keys())\n",
    "print (\"This is the dictionary of SO_users\", dict_you_want)"
   ]
  },
  {
   "cell_type": "code",
   "execution_count": 21,
   "metadata": {},
   "outputs": [
    {
     "name": "stdout",
     "output_type": "stream",
     "text": [
      "df:                                              my_items\n",
      "0   {'user': {'reputation': 30066, 'user_id': 9209...\n",
      "1   {'user': {'reputation': 55387, 'user_id': 7964...\n",
      "2   {'user': {'reputation': 241249, 'user_id': 290...\n",
      "3   {'user': {'reputation': 84352, 'user_id': 4909...\n",
      "4   {'user': {'reputation': 213128, 'user_id': 908...\n",
      "5   {'user': {'reputation': 9791, 'user_id': 10441...\n",
      "6   {'user': {'reputation': 17768, 'user_id': 5323...\n",
      "7   {'user': {'reputation': 83029, 'user_id': 6451...\n",
      "8   {'user': {'reputation': 2751, 'user_id': 15267...\n",
      "9   {'user': {'reputation': 8608, 'user_id': 34832...\n",
      "10  {'user': {'reputation': 28607, 'user_id': 7326...\n",
      "11  {'user': {'reputation': 122231, 'user_id': 233...\n",
      "12  {'user': {'reputation': 46671, 'user_id': 3510...\n",
      "13  {'user': {'reputation': 129935, 'user_id': 235...\n",
      "14  {'user': {'reputation': 35458, 'user_id': 6361...\n",
      "15  {'user': {'reputation': 17624, 'user_id': 1222...\n",
      "16  {'user': {'reputation': 641574, 'user_id': 100...\n",
      "17  {'user': {'reputation': 18703, 'user_id': 2482...\n",
      "18  {'user': {'reputation': 21236, 'user_id': 7207...\n",
      "19  {'user': {'reputation': 5902, 'user_id': 66711...\n",
      "df2     post_count  score                                               user\n",
      "0          555    701  {'reputation': 30066, 'user_id': 9209546, 'use...\n",
      "1          262    511  {'reputation': 55387, 'user_id': 7964527, 'use...\n",
      "2          302    499  {'reputation': 241249, 'user_id': 2901002, 'us...\n",
      "3          143    346  {'reputation': 84352, 'user_id': 4909087, 'use...\n",
      "4          176    314  {'reputation': 213128, 'user_id': 908494, 'use...\n",
      "5          155    217  {'reputation': 9791, 'user_id': 1044117, 'user...\n",
      "6          221    206  {'reputation': 17768, 'user_id': 532312, 'user...\n",
      "7           88    195  {'reputation': 83029, 'user_id': 6451573, 'use...\n",
      "8           12    188  {'reputation': 2751, 'user_id': 1526703, 'user...\n",
      "9           95    187  {'reputation': 8608, 'user_id': 3483203, 'user...\n",
      "10         123    155  {'reputation': 28607, 'user_id': 7326738, 'use...\n",
      "11          78    154  {'reputation': 122231, 'user_id': 2336654, 'us...\n",
      "12          93    152  {'reputation': 46671, 'user_id': 3510736, 'use...\n",
      "13          56    149  {'reputation': 129935, 'user_id': 2357112, 'us...\n",
      "14          98    148  {'reputation': 35458, 'user_id': 6361531, 'use...\n",
      "15          66    141  {'reputation': 17624, 'user_id': 1222951, 'use...\n",
      "16          54    137  {'reputation': 641574, 'user_id': 100297, 'use...\n",
      "17          82    113  {'reputation': 18703, 'user_id': 2482744, 'use...\n",
      "18          83    112  {'reputation': 21236, 'user_id': 7207392, 'use...\n",
      "19          80    110  {'reputation': 5902, 'user_id': 6671176, 'user...\n",
      "df3     post_count  score  accept_rate              display_name  \\\n",
      "0          555    701        100.0                       jpp   \n",
      "1          262    511        100.0                       Wen   \n",
      "2          302    499         97.0                   jezrael   \n",
      "3          143    346         97.0                 cᴏʟᴅsᴘᴇᴇᴅ   \n",
      "4          176    314         25.0                  abarnert   \n",
      "5          155    217         62.0                    fferri   \n",
      "6          221    206         76.0                    Rakesh   \n",
      "7           88    195         90.0  Jean-Fran&#231;ois Fabre   \n",
      "8           12    188         88.0                    Anupam   \n",
      "9           95    187         78.0                    chrisz   \n",
      "10         123    155         86.0                  Ajax1234   \n",
      "11          78    154         96.0                piRSquared   \n",
      "12          93    152         78.0                Ami Tavory   \n",
      "13          56    149         26.0               user2357112   \n",
      "14          98    148         80.0              Scott Boston   \n",
      "15          66    141         88.0                  Aran-Fey   \n",
      "16          54    137          NaN           Martijn Pieters   \n",
      "17          82    113         52.0                 Alex Hall   \n",
      "18          83    112         73.0               Paul Panzer   \n",
      "19          80    110        100.0                     sacul   \n",
      "\n",
      "                                                 link  \\\n",
      "0         https://stackoverflow.com/users/9209546/jpp   \n",
      "1         https://stackoverflow.com/users/7964527/wen   \n",
      "2     https://stackoverflow.com/users/2901002/jezrael   \n",
      "3   https://stackoverflow.com/users/4909087/c%e1%b...   \n",
      "4     https://stackoverflow.com/users/908494/abarnert   \n",
      "5      https://stackoverflow.com/users/1044117/fferri   \n",
      "6       https://stackoverflow.com/users/532312/rakesh   \n",
      "7   https://stackoverflow.com/users/6451573/jean-f...   \n",
      "8      https://stackoverflow.com/users/1526703/anupam   \n",
      "9      https://stackoverflow.com/users/3483203/chrisz   \n",
      "10   https://stackoverflow.com/users/7326738/ajax1234   \n",
      "11  https://stackoverflow.com/users/2336654/pirsqu...   \n",
      "12  https://stackoverflow.com/users/3510736/ami-ta...   \n",
      "13  https://stackoverflow.com/users/2357112/user23...   \n",
      "14  https://stackoverflow.com/users/6361531/scott-...   \n",
      "15   https://stackoverflow.com/users/1222951/aran-fey   \n",
      "16  https://stackoverflow.com/users/100297/martijn...   \n",
      "17  https://stackoverflow.com/users/2482744/alex-hall   \n",
      "18  https://stackoverflow.com/users/7207392/paul-p...   \n",
      "19      https://stackoverflow.com/users/6671176/sacul   \n",
      "\n",
      "                                        profile_image  reputation  user_id  \\\n",
      "0       https://i.stack.imgur.com/qk9vC.jpg?s=128&g=1       30066  9209546   \n",
      "1       https://i.stack.imgur.com/DLdBM.jpg?s=128&g=1       55387  7964527   \n",
      "2       https://i.stack.imgur.com/hMDvl.jpg?s=128&g=1      241249  2901002   \n",
      "3       https://i.stack.imgur.com/Jy08O.png?s=128&g=1       84352  4909087   \n",
      "4   https://www.gravatar.com/avatar/7e41acaa8f6a0e...      213128   908494   \n",
      "5   https://www.gravatar.com/avatar/70c26ef03afcef...        9791  1044117   \n",
      "6       https://i.stack.imgur.com/kEKs8.jpg?s=128&g=1       17768   532312   \n",
      "7       https://i.stack.imgur.com/zE16s.jpg?s=128&g=1       83029  6451573   \n",
      "8   https://www.gravatar.com/avatar/3dab6f319dc8cd...        2751  1526703   \n",
      "9       https://i.stack.imgur.com/4lXMM.jpg?s=128&g=1        8608  3483203   \n",
      "10  https://www.gravatar.com/avatar/304e795e4bb2e0...       28607  7326738   \n",
      "11      https://i.stack.imgur.com/8V2Hz.png?s=128&g=1      122231  2336654   \n",
      "12      https://i.stack.imgur.com/kVtHP.jpg?s=128&g=1       46671  3510736   \n",
      "13  https://www.gravatar.com/avatar/3f80897d57525a...      129935  2357112   \n",
      "14  https://www.gravatar.com/avatar/b4314406c13df7...       35458  6361531   \n",
      "15      https://i.stack.imgur.com/s64JD.png?s=128&g=1       17624  1222951   \n",
      "16  https://www.gravatar.com/avatar/24780fb6df85a9...      641574   100297   \n",
      "17  https://www.gravatar.com/avatar/da280aaf6b5a9e...       18703  2482744   \n",
      "18  https://www.gravatar.com/avatar/dadc9567dde5f0...       21236  7207392   \n",
      "19      https://i.stack.imgur.com/wFXlR.png?s=128&g=1        5902  6671176   \n",
      "\n",
      "     user_type  \n",
      "0   registered  \n",
      "1   registered  \n",
      "2   registered  \n",
      "3   registered  \n",
      "4   registered  \n",
      "5   registered  \n",
      "6   registered  \n",
      "7   registered  \n",
      "8   registered  \n",
      "9   registered  \n",
      "10  registered  \n",
      "11  registered  \n",
      "12  registered  \n",
      "13  registered  \n",
      "14  registered  \n",
      "15  registered  \n",
      "16   moderator  \n",
      "17  registered  \n",
      "18  registered  \n",
      "19  registered  \n"
     ]
    }
   ],
   "source": [
    "\n",
    "\n",
    "df=pd.DataFrame(dict_you_want)\n",
    "print (\"df:\", df)\n",
    "#When .apply(pd.Series) method on items column is applied, the dictionaries in items column will be used as column headings\n",
    "df2=df['my_items'].apply(pd.Series)\n",
    "print (\"df2\",df2)\n",
    "df3=pd.concat([df2.drop(['user'],axis=1),df2['user'].apply(pd.Series)],axis=1)\n",
    "#df3=df2['user'].apply(pd.Series)\n",
    "\n",
    "print (\"df3\",df3)\n",
    "\n",
    "df3.to_csv(\"C:\\\\Users\\\\charan\\\\Downloads\\\\datas.csv\", sep=' ',encoding='utf-8')"
   ]
  },
  {
   "cell_type": "code",
   "execution_count": null,
   "metadata": {},
   "outputs": [],
   "source": []
  }
 ],
 "metadata": {
  "kernelspec": {
   "display_name": "Python 3",
   "language": "python",
   "name": "python3"
  },
  "language_info": {
   "codemirror_mode": {
    "name": "ipython",
    "version": 3
   },
   "file_extension": ".py",
   "mimetype": "text/x-python",
   "name": "python",
   "nbconvert_exporter": "python",
   "pygments_lexer": "ipython3",
   "version": "3.6.4"
  }
 },
 "nbformat": 4,
 "nbformat_minor": 2
}
